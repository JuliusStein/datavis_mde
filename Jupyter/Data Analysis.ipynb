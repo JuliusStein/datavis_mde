{
 "cells": [
  {
   "cell_type": "code",
   "execution_count": 1,
   "id": "ed607730",
   "metadata": {},
   "outputs": [],
   "source": [
    "import pandas as pd\n",
    "import matplotlib.pyplot as plt"
   ]
  },
  {
   "cell_type": "code",
   "execution_count": 2,
   "id": "479b53bf",
   "metadata": {},
   "outputs": [
    {
     "data": {
      "text/html": [
       "<div>\n",
       "<style scoped>\n",
       "    .dataframe tbody tr th:only-of-type {\n",
       "        vertical-align: middle;\n",
       "    }\n",
       "\n",
       "    .dataframe tbody tr th {\n",
       "        vertical-align: top;\n",
       "    }\n",
       "\n",
       "    .dataframe thead th {\n",
       "        text-align: right;\n",
       "    }\n",
       "</style>\n",
       "<table border=\"1\" class=\"dataframe\">\n",
       "  <thead>\n",
       "    <tr style=\"text-align: right;\">\n",
       "      <th></th>\n",
       "      <th>fiber_type</th>\n",
       "      <th>import_export</th>\n",
       "      <th>category</th>\n",
       "      <th>sub_category</th>\n",
       "      <th>year</th>\n",
       "      <th>month</th>\n",
       "      <th>value</th>\n",
       "    </tr>\n",
       "  </thead>\n",
       "  <tbody>\n",
       "    <tr>\n",
       "      <th>0</th>\n",
       "      <td>raw_cotton</td>\n",
       "      <td>import</td>\n",
       "      <td>yarn, fabric, thread</td>\n",
       "      <td>yarn, thread, cordage, rope</td>\n",
       "      <td>2020</td>\n",
       "      <td>1</td>\n",
       "      <td>8877.05</td>\n",
       "    </tr>\n",
       "    <tr>\n",
       "      <th>1</th>\n",
       "      <td>raw_cotton</td>\n",
       "      <td>import</td>\n",
       "      <td>yarn, fabric, thread</td>\n",
       "      <td>yarn, thread, cordage, rope</td>\n",
       "      <td>2020</td>\n",
       "      <td>2</td>\n",
       "      <td>8132.05</td>\n",
       "    </tr>\n",
       "    <tr>\n",
       "      <th>2</th>\n",
       "      <td>raw_cotton</td>\n",
       "      <td>import</td>\n",
       "      <td>yarn, fabric, thread</td>\n",
       "      <td>yarn, thread, cordage, rope</td>\n",
       "      <td>2020</td>\n",
       "      <td>3</td>\n",
       "      <td>7992.23</td>\n",
       "    </tr>\n",
       "    <tr>\n",
       "      <th>3</th>\n",
       "      <td>raw_cotton</td>\n",
       "      <td>import</td>\n",
       "      <td>yarn, fabric, thread</td>\n",
       "      <td>yarn, thread, cordage, rope</td>\n",
       "      <td>2020</td>\n",
       "      <td>4</td>\n",
       "      <td>8271.72</td>\n",
       "    </tr>\n",
       "    <tr>\n",
       "      <th>4</th>\n",
       "      <td>raw_cotton</td>\n",
       "      <td>import</td>\n",
       "      <td>yarn, fabric, thread</td>\n",
       "      <td>yarn, thread, cordage, rope</td>\n",
       "      <td>2020</td>\n",
       "      <td>5</td>\n",
       "      <td>7054.60</td>\n",
       "    </tr>\n",
       "  </tbody>\n",
       "</table>\n",
       "</div>"
      ],
      "text/plain": [
       "   fiber_type import_export              category  \\\n",
       "0  raw_cotton        import  yarn, fabric, thread   \n",
       "1  raw_cotton        import  yarn, fabric, thread   \n",
       "2  raw_cotton        import  yarn, fabric, thread   \n",
       "3  raw_cotton        import  yarn, fabric, thread   \n",
       "4  raw_cotton        import  yarn, fabric, thread   \n",
       "\n",
       "                  sub_category  year  month    value  \n",
       "0  yarn, thread, cordage, rope  2020      1  8877.05  \n",
       "1  yarn, thread, cordage, rope  2020      2  8132.05  \n",
       "2  yarn, thread, cordage, rope  2020      3  7992.23  \n",
       "3  yarn, thread, cordage, rope  2020      4  8271.72  \n",
       "4  yarn, thread, cordage, rope  2020      5  7054.60  "
      ]
     },
     "execution_count": 2,
     "metadata": {},
     "output_type": "execute_result"
    }
   ],
   "source": [
    "full_data = pd.read_csv(\"C:\\\\Users\\\\juliu\\\\Desktop\\\\datavis_mde\\\\Class Datasets\\\\data\\\\US_Textile_Fiber_Trade.csv\")\n",
    "full_data.head()"
   ]
  },
  {
   "cell_type": "code",
   "execution_count": 3,
   "id": "b6e8b3fc",
   "metadata": {},
   "outputs": [
    {
     "data": {
      "text/html": [
       "<div>\n",
       "<style scoped>\n",
       "    .dataframe tbody tr th:only-of-type {\n",
       "        vertical-align: middle;\n",
       "    }\n",
       "\n",
       "    .dataframe tbody tr th {\n",
       "        vertical-align: top;\n",
       "    }\n",
       "\n",
       "    .dataframe thead th {\n",
       "        text-align: right;\n",
       "    }\n",
       "</style>\n",
       "<table border=\"1\" class=\"dataframe\">\n",
       "  <thead>\n",
       "    <tr style=\"text-align: right;\">\n",
       "      <th></th>\n",
       "      <th>fiber_type</th>\n",
       "      <th>import_export</th>\n",
       "      <th>category</th>\n",
       "      <th>sub_category</th>\n",
       "      <th>year</th>\n",
       "      <th>month</th>\n",
       "      <th>value</th>\n",
       "    </tr>\n",
       "  </thead>\n",
       "  <tbody>\n",
       "    <tr>\n",
       "      <th>105</th>\n",
       "      <td>raw_cotton</td>\n",
       "      <td>import</td>\n",
       "      <td>apparel</td>\n",
       "      <td>tops</td>\n",
       "      <td>2020</td>\n",
       "      <td>1</td>\n",
       "      <td>256802.49</td>\n",
       "    </tr>\n",
       "    <tr>\n",
       "      <th>106</th>\n",
       "      <td>raw_cotton</td>\n",
       "      <td>import</td>\n",
       "      <td>apparel</td>\n",
       "      <td>tops</td>\n",
       "      <td>2020</td>\n",
       "      <td>2</td>\n",
       "      <td>242373.22</td>\n",
       "    </tr>\n",
       "    <tr>\n",
       "      <th>107</th>\n",
       "      <td>raw_cotton</td>\n",
       "      <td>import</td>\n",
       "      <td>apparel</td>\n",
       "      <td>tops</td>\n",
       "      <td>2020</td>\n",
       "      <td>3</td>\n",
       "      <td>229320.48</td>\n",
       "    </tr>\n",
       "    <tr>\n",
       "      <th>108</th>\n",
       "      <td>raw_cotton</td>\n",
       "      <td>import</td>\n",
       "      <td>apparel</td>\n",
       "      <td>tops</td>\n",
       "      <td>2020</td>\n",
       "      <td>4</td>\n",
       "      <td>132740.11</td>\n",
       "    </tr>\n",
       "    <tr>\n",
       "      <th>109</th>\n",
       "      <td>raw_cotton</td>\n",
       "      <td>import</td>\n",
       "      <td>apparel</td>\n",
       "      <td>tops</td>\n",
       "      <td>2020</td>\n",
       "      <td>5</td>\n",
       "      <td>83188.92</td>\n",
       "    </tr>\n",
       "  </tbody>\n",
       "</table>\n",
       "</div>"
      ],
      "text/plain": [
       "     fiber_type import_export category sub_category  year  month      value\n",
       "105  raw_cotton        import  apparel         tops  2020      1  256802.49\n",
       "106  raw_cotton        import  apparel         tops  2020      2  242373.22\n",
       "107  raw_cotton        import  apparel         tops  2020      3  229320.48\n",
       "108  raw_cotton        import  apparel         tops  2020      4  132740.11\n",
       "109  raw_cotton        import  apparel         tops  2020      5   83188.92"
      ]
     },
     "execution_count": 3,
     "metadata": {},
     "output_type": "execute_result"
    }
   ],
   "source": [
    "apparel = full_data[full_data['category'] == 'apparel']\n",
    "apparel = apparel[apparel['year'] == 2020]\n",
    "apparel_in = apparel[apparel['import_export'] == 'import']\n",
    "apparel_out = apparel[apparel['import_export'] == 'export']\n",
    "apparel_in.head()"
   ]
  },
  {
   "cell_type": "code",
   "execution_count": 4,
   "id": "17ff551d",
   "metadata": {},
   "outputs": [
    {
     "data": {
      "text/plain": [
       "array(['tops', 'bottoms', 'suits and coats', 'sweaters', 'other apparel'],\n",
       "      dtype=object)"
      ]
     },
     "execution_count": 4,
     "metadata": {},
     "output_type": "execute_result"
    }
   ],
   "source": [
    "apparel_in['sub_category'].unique()"
   ]
  },
  {
   "cell_type": "code",
   "execution_count": 5,
   "id": "ecc756b5",
   "metadata": {},
   "outputs": [
    {
     "data": {
      "text/plain": [
       "60"
      ]
     },
     "execution_count": 5,
     "metadata": {},
     "output_type": "execute_result"
    }
   ],
   "source": [
    "tops = apparel_in[apparel_in['sub_category'] == 'tops']\n",
    "bottoms = apparel_in[apparel_in['sub_category'] == 'bottoms']\n",
    "suits = apparel_in[apparel_in['sub_category'] == 'suits and coats']\n",
    "sweaters = apparel_in[apparel_in['sub_category'] == 'sweaters']\n",
    "other = apparel_in[apparel_in['sub_category'] == 'other apparel']\n",
    "\n",
    "len(other)"
   ]
  },
  {
   "cell_type": "code",
   "execution_count": 13,
   "id": "2e7a99e2",
   "metadata": {},
   "outputs": [
    {
     "data": {
      "image/png": "[encoded data removed]",
      "text/plain": [
       "<Figure size 576x432 with 1 Axes>"
      ]
     },
     "metadata": {
      "needs_background": "light"
     },
     "output_type": "display_data"
    }
   ],
   "source": [
    "fig = plt.gcf()\n",
    "ax = plt.gca()\n",
    "t = tops[tops['fiber_type'] == 'raw_cotton']\n",
    "b = bottoms[bottoms['fiber_type'] == 'raw_cotton']\n",
    "c = suits[suits['fiber_type'] == 'raw_cotton']\n",
    "s = sweaters[sweaters['fiber_type'] == 'raw_cotton']\n",
    "o = other[other['fiber_type'] == 'raw_cotton']\n",
    "\n",
    "t.plot(kind='line',x='month',y='value',ax=ax)\n",
    "b.plot(kind='line',x='month',y='value', color='red', ax=ax)\n",
    "c.plot(kind='line',x='month',y='value', color='green', ax=ax)\n",
    "s.plot(kind='line',x='month',y='value', color='yellow', ax=ax)\n",
    "o.plot(kind='line',x='month',y='value', color='purple', ax=ax)\n",
    "\n",
    "mylabels = ['Tops', 'Bottoms', 'Suits and Coats', 'Sweaters', 'Other']\n",
    "ax.legend(labels=mylabels)\n",
    "\n",
    "fig.set_size_inches(8, 6)\n",
    "plt.show()\n",
    "#t.head(20)"
   ]
  },
  {
   "cell_type": "code",
   "execution_count": null,
   "id": "71fc8c30",
   "metadata": {},
   "outputs": [],
   "source": []
  }
 ],
 "metadata": {
  "kernelspec": {
   "display_name": "Python 3 (ipykernel)",
   "language": "python",
   "name": "python3"
  },
  "language_info": {
   "codemirror_mode": {
    "name": "ipython",
    "version": 3
   },
   "file_extension": ".py",
   "mimetype": "text/x-python",
   "name": "python",
   "nbconvert_exporter": "python",
   "pygments_lexer": "ipython3",
   "version": "3.9.12"
  }
 },
 "nbformat": 4,
 "nbformat_minor": 5
}
